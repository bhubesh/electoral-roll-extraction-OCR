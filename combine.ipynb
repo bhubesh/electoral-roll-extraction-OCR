{
 "cells": [
  {
   "cell_type": "code",
   "execution_count": 6,
   "metadata": {},
   "outputs": [],
   "source": [
    "import pandas as pd\n",
    "import os\n",
    "import glob"
   ]
  },
  {
   "cell_type": "code",
   "execution_count": 7,
   "metadata": {},
   "outputs": [],
   "source": [
    "all_data = []\n",
    "for f in glob.glob(\"*.xlsx\"):\n",
    "    all_data.append(pd.read_excel(f))"
   ]
  },
  {
   "cell_type": "code",
   "execution_count": 8,
   "metadata": {},
   "outputs": [],
   "source": [
    "df = pd.concat(all_data, ignore_index=True)"
   ]
  },
  {
   "cell_type": "code",
   "execution_count": 9,
   "metadata": {},
   "outputs": [
    {
     "data": {
      "text/html": [
       "<div>\n",
       "<style scoped>\n",
       "    .dataframe tbody tr th:only-of-type {\n",
       "        vertical-align: middle;\n",
       "    }\n",
       "\n",
       "    .dataframe tbody tr th {\n",
       "        vertical-align: top;\n",
       "    }\n",
       "\n",
       "    .dataframe thead th {\n",
       "        text-align: right;\n",
       "    }\n",
       "</style>\n",
       "<table border=\"1\" class=\"dataframe\">\n",
       "  <thead>\n",
       "    <tr style=\"text-align: right;\">\n",
       "      <th></th>\n",
       "      <th>name</th>\n",
       "      <th>guardian</th>\n",
       "      <th>hno</th>\n",
       "      <th>age</th>\n",
       "      <th>gen</th>\n",
       "      <th>code</th>\n",
       "      <th>file_name</th>\n",
       "      <th>part</th>\n",
       "    </tr>\n",
       "  </thead>\n",
       "  <tbody>\n",
       "    <tr>\n",
       "      <th>0</th>\n",
       "      <td>बात्रक राम</td>\n",
       "      <td>पिता : सुरता राम</td>\n",
       "      <td>छः</td>\n",
       "      <td>33</td>\n",
       "      <td>पुरुष</td>\n",
       "      <td>KSN0970681</td>\n",
       "      <td>CMB0080005</td>\n",
       "      <td>8</td>\n",
       "    </tr>\n",
       "    <tr>\n",
       "      <th>1</th>\n",
       "      <td>सुमन</td>\n",
       "      <td>ग्रति: सतपाल</td>\n",
       "      <td>छः छा</td>\n",
       "      <td>32</td>\n",
       "      <td>मसहिला</td>\n",
       "      <td>KSN1340660</td>\n",
       "      <td>CMB0080005</td>\n",
       "      <td>8</td>\n",
       "    </tr>\n",
       "    <tr>\n",
       "      <th>2</th>\n",
       "      <td>अंत्ी</td>\n",
       "      <td>पति : राम स्वरुप</td>\n",
       "      <td>198</td>\n",
       "      <td>84</td>\n",
       "      <td>महिला</td>\n",
       "      <td>HR/01/04/0012705</td>\n",
       "      <td>CMB0080005</td>\n",
       "      <td>8</td>\n",
       "    </tr>\n",
       "    <tr>\n",
       "      <th>3</th>\n",
       "      <td>धंमपाल</td>\n",
       "      <td>पिता : रामस्वरुषप</td>\n",
       "      <td>198.</td>\n",
       "      <td>54</td>\n",
       "      <td>पुरुष</td>\n",
       "      <td>HR/01/04/0012706</td>\n",
       "      <td>CMB0080005</td>\n",
       "      <td>8</td>\n",
       "    </tr>\n",
       "    <tr>\n",
       "      <th>4</th>\n",
       "      <td>परमजीत कौर</td>\n",
       "      <td>पति: धेमपाल</td>\n",
       "      <td>198</td>\n",
       "      <td>47</td>\n",
       "      <td>महिला</td>\n",
       "      <td>HR/01/04/0012707</td>\n",
       "      <td>CMB0080005</td>\n",
       "      <td>8</td>\n",
       "    </tr>\n",
       "  </tbody>\n",
       "</table>\n",
       "</div>"
      ],
      "text/plain": [
       "         name           guardian    hno age     gen              code  \\\n",
       "0  बात्रक राम   पिता : सुरता राम     छः  33   पुरुष        KSN0970681   \n",
       "1        सुमन       ग्रति: सतपाल  छः छा  32  मसहिला        KSN1340660   \n",
       "2       अंत्ी   पति : राम स्वरुप    198  84   महिला  HR/01/04/0012705   \n",
       "3      धंमपाल  पिता : रामस्वरुषप   198.  54   पुरुष  HR/01/04/0012706   \n",
       "4  परमजीत कौर        पति: धेमपाल    198  47   महिला  HR/01/04/0012707   \n",
       "\n",
       "    file_name  part  \n",
       "0  CMB0080005     8  \n",
       "1  CMB0080005     8  \n",
       "2  CMB0080005     8  \n",
       "3  CMB0080005     8  \n",
       "4  CMB0080005     8  "
      ]
     },
     "execution_count": 9,
     "metadata": {},
     "output_type": "execute_result"
    }
   ],
   "source": [
    "df.head()"
   ]
  },
  {
   "cell_type": "code",
   "execution_count": 10,
   "metadata": {},
   "outputs": [],
   "source": [
    "df.to_excel('combine.xlsx',index = False)"
   ]
  },
  {
   "cell_type": "code",
   "execution_count": null,
   "metadata": {},
   "outputs": [],
   "source": []
  }
 ],
 "metadata": {
  "kernelspec": {
   "display_name": "Python 3",
   "language": "python",
   "name": "python3"
  },
  "language_info": {
   "codemirror_mode": {
    "name": "ipython",
    "version": 3
   },
   "file_extension": ".py",
   "mimetype": "text/x-python",
   "name": "python",
   "nbconvert_exporter": "python",
   "pygments_lexer": "ipython3",
   "version": "3.6.4"
  }
 },
 "nbformat": 4,
 "nbformat_minor": 2
}
