{
 "cells": [
  {
   "cell_type": "code",
   "execution_count": 1,
   "metadata": {
    "colab": {},
    "colab_type": "code",
    "id": "SxLv1M76Nljd"
   },
   "outputs": [],
   "source": [
    "from PIL import Image\n",
    "from pytesseract import image_to_string\n",
    "import pytesseract\n",
    "import numpy as np\n",
    "import pandas as pd\n",
    "import PIL\n",
    "from PIL import Image, ImageFilter, ImageEnhance\n",
    "import cv2\n",
    "import colorsys"
   ]
  },
  {
   "cell_type": "code",
   "execution_count": 2,
   "metadata": {
    "colab": {},
    "colab_type": "code",
    "id": "oDK_CvkuNljt"
   },
   "outputs": [],
   "source": [
    " pytesseract.pytesseract.tesseract_cmd = r\"C:\\Program Files (x86)\\Tesseract-OCR\\tesseract.exe\""
   ]
  },
  {
   "cell_type": "code",
   "execution_count": 42,
   "metadata": {
    "colab": {},
    "colab_type": "code",
    "id": "L1WT4NHaNlkB"
   },
   "outputs": [],
   "source": [
    "import numpy as np\n",
    "#initial coordinates of name, guardian's relation and name,house number,age,gender.\n",
    "#Pls edit and change by hit and try like we did in first page extraction\n",
    "def image_text(x,\n",
    "               crop_rectangle_hn = (400, 470, 825, 540),crop_rectangle_age = (310, 540, 455, 585),\n",
    "               crop_rectangle_gen = (560, 540, 585, 585),crop_rectangle_g_relation = (220, 400, 247, 440)):\n",
    "    im = Image.open(x)\n",
    "    im = im.resize((3000, 3882), PIL.Image.LANCZOS)\n",
    "    im = cv2.adaptiveThreshold(np.array(im,dtype=np.uint8), 255, cv2.ADAPTIVE_THRESH_GAUSSIAN_C, cv2.THRESH_BINARY, 31, 9)\n",
    "    im = Image.fromarray(im)\n",
    "    countt = 1   \n",
    "    for i in range(0,10):\n",
    "# Split file name like we did in first page extraction. It should include full file name.\n",
    "# For example 'AC0020001-03' and not just 'AC0020001'\n",
    "        for j in range(0,3):\n",
    "#             s = x.split('/')\n",
    "#             s = s[1].split(\"_\")[0]\n",
    "            file_name.append(x+str(countt))\n",
    "            \n",
    "            cropped_im_g_relation = im.crop(crop_rectangle_g_relation)\n",
    "            c_gr = image_to_string(cropped_im_g_relation,config='-c tessedit_char_whitelist=FH --psm 6')\n",
    "            grel.append(c_gr)\n",
    "\n",
    "            cropped_im_hn = im.crop(crop_rectangle_hn)\n",
    "            c_hn = image_to_string(cropped_im_hn,config='--psm 6')\n",
    "            hno.append(c_hn)\n",
    "\n",
    "            cropped_im_age = im.crop(crop_rectangle_age)\n",
    "            c_age = image_to_string(cropped_im_age,config='-c tessedit_char_whitelist=0123456789 --psm 6')\n",
    "            age.append(c_age)\n",
    "\n",
    "            cropped_im_gen = im.crop(crop_rectangle_gen)\n",
    "            c_gen = image_to_string(cropped_im_gen,config='-c tessedit_char_whitelist=MF --psm 6')\n",
    "            gen.append(c_gen)\n",
    "            \n",
    "            countt+=1\n",
    "\n",
    "# Find distance between same category horizontally.\n",
    "# For example find distance between starting coordinate of first box NAME and starting coordinate of secnd box NAME on right\n",
    "# Make sure we find distance from starting point. Distance should be same for 2nd and 3rd box horizontally as well as for every 4 other value, such as age, sex etc\n",
    "            crop_rectangle_hn = tuple(np.add(crop_rectangle_hn, (863.5, 0,863.5,0)))\n",
    "            crop_rectangle_age = tuple(np.add(crop_rectangle_age, (863.5, 0,863.5,0)))\n",
    "            crop_rectangle_gen = tuple(np.add(crop_rectangle_gen, (863.5, 0,863.5,0)))\n",
    "            crop_rectangle_g_relation = tuple(np.add(crop_rectangle_g_relation, (863.5, 0,863.5,0)))\n",
    "# Find ditance between third and first box. Which should be 3 times above found distance\n",
    "\n",
    "        crop_rectangle_hn = tuple(np.subtract(crop_rectangle_hn, (2590.5, 0,2590.5,0)))\n",
    "        crop_rectangle_age = tuple(np.subtract(crop_rectangle_age, (2590.5, 0,2590.5,0)))\n",
    "        crop_rectangle_gen = tuple(np.subtract(crop_rectangle_gen, (2590.5, 0,2590.5,0)))\n",
    "        crop_rectangle_g_relation = tuple(np.subtract(crop_rectangle_g_relation, (2590.5, 0,2590.5,0)))\n",
    "# Find distance between same category vertically.\n",
    "# For example find distance between starting coordinate of first box NAME and starting coordinate of secnd box NAME down\n",
    "# Distance should be same for all 10 boxes vertically as well as for every 4 other value, such as age, sex etc\n",
    "\n",
    "        crop_rectangle_hn = tuple(np.add(crop_rectangle_hn, (0, 337,0,337)))\n",
    "        crop_rectangle_age = tuple(np.add(crop_rectangle_age, (0, 337,0,337)))\n",
    "        crop_rectangle_gen = tuple(np.add(crop_rectangle_gen, (0, 337,0,337)))\n",
    "        crop_rectangle_g_relation = tuple(np.add(crop_rectangle_g_relation, (0, 337,0,337)))\n",
    "\n",
    "    return hno,age,gen,file_name,grel\n",
    "\n"
   ]
  },
  {
   "cell_type": "markdown",
   "metadata": {},
   "source": [
    "** Removing page 1 and 2 **"
   ]
  },
  {
   "cell_type": "code",
   "execution_count": 6,
   "metadata": {
    "colab": {},
    "colab_type": "code",
    "id": "klf-0ED1Nlkf"
   },
   "outputs": [],
   "source": [
    "import glob\n",
    "#Getting all page 1\n",
    "page_1 = glob.glob('C:/Users/SUYASH/Downloads/AC0020001/*-01.jpg')\n",
    "#Getting all page 2\n",
    "page_2 = glob.glob('C:/Users/SUYASH/Downloads/AC0020001/*-02.jpg')\n",
    "#Getting all pages\n",
    "page_all = glob.glob('C:/Users/SUYASH/Downloads/AC0020001/*.jpg')"
   ]
  },
  {
   "cell_type": "code",
   "execution_count": 8,
   "metadata": {
    "colab": {},
    "colab_type": "code",
    "id": "9373Z6SPNlko"
   },
   "outputs": [],
   "source": [
    "#Removing page 1 from all\n",
    "temp = [i for i in page_all if i not in page_1]\n",
    "#Removing page 2 from all\n",
    "page_fin = [i for i in temp if i not in page_2]"
   ]
  },
  {
   "cell_type": "code",
   "execution_count": 9,
   "metadata": {
    "colab": {},
    "colab_type": "code",
    "id": "aywOok1uJbUu"
   },
   "outputs": [],
   "source": [
    "# with open('drive/My Drive/app/Misc/aap/get_pdfs/images/one.txt', 'w') as f:\n",
    "#     for item in page_fin:\n",
    "#         f.write(\"%s\\n\" % item)\n",
    "\n",
    "# from numpy import loadtxt\n",
    "# one = loadtxt(\"drive/My Drive/app/Misc/aap/get_pdfs/images/one.txt\", delimiter=\"\\n\", unpack=False,dtype = 'str')"
   ]
  },
  {
   "cell_type": "code",
   "execution_count": 10,
   "metadata": {
    "colab": {},
    "colab_type": "code",
    "id": "zSgC01sKNlky"
   },
   "outputs": [],
   "source": [
    "def split(a, n):\n",
    "    k, m = divmod(len(a), n)\n",
    "    return (a[i * k + min(i, m):(i + 1) * k + min(i + 1, m)] for i in range(n))"
   ]
  },
  {
   "cell_type": "markdown",
   "metadata": {},
   "source": [
    "** Splitting list to parts **"
   ]
  },
  {
   "cell_type": "code",
   "execution_count": 11,
   "metadata": {
    "colab": {},
    "colab_type": "code",
    "id": "gIn6ZX5mNllA"
   },
   "outputs": [
    {
     "data": {
      "text/plain": [
       "[['C:/Users/SUYASH/Downloads/AC0020001\\\\AC0020001-03.jpg'],\n",
       " ['C:/Users/SUYASH/Downloads/AC0020001\\\\AC0020001-06.jpg']]"
      ]
     },
     "execution_count": 11,
     "metadata": {},
     "output_type": "execute_result"
    }
   ],
   "source": [
    "#Splitting files into 500 parts to increase frequency of saving. Increase the value to save more frequently\n",
    "#Do not change value after running code once. If want to change value after running. Delete all saved files or do maths\n",
    "page_fin_split =  list(split(page_fin, 500))"
   ]
  },
  {
   "cell_type": "markdown",
   "metadata": {},
   "source": [
    "**WITH TESSERACT 3.05**"
   ]
  },
  {
   "cell_type": "code",
   "execution_count": 52,
   "metadata": {
    "colab": {},
    "colab_type": "code",
    "id": "3NR71tlKNllK"
   },
   "outputs": [
    {
     "name": "stdout",
     "output_type": "stream",
     "text": [
      "page_1\n",
      "1\n",
      "page_2\n",
      "2\n"
     ]
    }
   ],
   "source": [
    "# Count value is the starting value for code to work. If the last file saved before stopping code was '10', count value for running code again should be '11'\n",
    "count = 1\n",
    "count_sem = 1\n",
    "for i in page_fin_split[count-1:]:\n",
    "    name = []\n",
    "    father = []\n",
    "    hno = []\n",
    "    age = []\n",
    "    gen = []\n",
    "    grel = []\n",
    "#     code = []\n",
    "    file_name = []\n",
    "    for j in i:\n",
    "        h,a,g,fn,gr = image_text(j)\n",
    "        print(\"page_\"+str(count_sem))\n",
    "        count_sem+=1\n",
    "    \n",
    "    df = pd.DataFrame(np.column_stack([gr, h,a,g,fn]), \n",
    "                               columns=['g_relation', 'hno','age','gen',\"file_name\"])\n",
    "    df.to_csv('C:/Users/SUYASH/Downloads/AC0020001/other/'+str(count)+\".csv\",index = False)\n",
    "    print(count)\n",
    "    count+=1"
   ]
  },
  {
   "cell_type": "markdown",
   "metadata": {},
   "source": [
    "**WITH TESSERACT 4.0**"
   ]
  },
  {
   "cell_type": "code",
   "execution_count": 14,
   "metadata": {
    "colab": {},
    "colab_type": "code",
    "id": "_GqgnuQ0Nlmb"
   },
   "outputs": [],
   "source": [
    "import numpy as np\n",
    "#initial coordinates of name, guardian's relation and name,house number,age,gender.\n",
    "#Pls edit and change by hit and try like we did in first page extraction\n",
    "def image_text_name(x,crop_rectangle_nm = (340, 320, 820, 410),crop_rectangle_fn = (410, 400, 825, 480)):\n",
    "    im = Image.open(x)\n",
    "    im = im.resize((3000, 3882), PIL.Image.LANCZOS)\n",
    "    im = cv2.adaptiveThreshold(np.array(im,dtype=np.uint8), 255, cv2.ADAPTIVE_THRESH_GAUSSIAN_C, cv2.THRESH_BINARY, 31, 9)\n",
    "    im = Image.fromarray(im)\n",
    "    countt = 1\n",
    "    for i in range(0,10):\n",
    "# Split file name like we did in first page extraction. It should include full file name.\n",
    "# For example 'AC0020001-03' and not just 'AC0020001'\n",
    "        for j in range(0,3):\n",
    "#             s = x.split('/')\n",
    "#             s = s[1].split(\"_\")[0]\n",
    "            file_name.append(x+str(countt))\n",
    "\n",
    "            cropped_im_nm = im.crop(crop_rectangle_nm)\n",
    "            c_nm = image_to_string(cropped_im_nm,config='-c tessedit_char_whitelist=abcdefghijklmnopqrstuvwxyzQWERTYUIOPASDFGHJKLZXCVBNM --psm 6')\n",
    "            name.append(c_nm)\n",
    "            \n",
    "            cropped_im_fn = im.crop(crop_rectangle_fn)\n",
    "            c_fn = image_to_string(cropped_im_fn,config='-c tessedit_char_whitelist=abcdefghijklmnopqrstuvwxyzQWERTYUIOPASDFGHJKLZXCVBNM --psm 6')\n",
    "            father.append(c_fn)\n",
    "            \n",
    "            countt+=1\n",
    "\n",
    "\n",
    "# Find distance between same category horizontally.\n",
    "# For example find distance between starting coordinate of first box NAME and starting coordinate of secnd box NAME on right\n",
    "# Make sure we find distance from starting point. Distance should be same for 2nd and 3rd box horizontally as well as for every 4 other value, such as age, sex etc\n",
    "            crop_rectangle_nm = tuple(np.add(crop_rectangle_nm, (863.5, 0,863.5,0)))\n",
    "            crop_rectangle_fn =  tuple(np.add(crop_rectangle_fn, (863.5, 0,863.5,0)))\n",
    "# Find ditance between third and first box. Which should be 3 times above found distance\n",
    "\n",
    "        crop_rectangle_nm = tuple(np.subtract(crop_rectangle_nm, (2590.5, 0,2590.5,0)))\n",
    "        crop_rectangle_fn =  tuple(np.subtract(crop_rectangle_fn, (2590.5, 0,2590.5,0)))\n",
    "\n",
    "# Find distance between same category vertically.\n",
    "# For example find distance between starting coordinate of first box NAME and starting coordinate of secnd box NAME down\n",
    "# Distance should be same for all 10 boxes vertically as well as for every 4 other value, such as age, sex etc\n",
    "        crop_rectangle_nm = tuple(np.add(crop_rectangle_nm, (0, 337,0,337)))\n",
    "        crop_rectangle_fn =  tuple(np.add(crop_rectangle_fn, (0, 337,0,337)))\n",
    "\n",
    "    return name,father,file_name\n",
    "\n"
   ]
  },
  {
   "cell_type": "code",
   "execution_count": 15,
   "metadata": {},
   "outputs": [
    {
     "name": "stdout",
     "output_type": "stream",
     "text": [
      "['C:/Users/SUYASH/Downloads/AC0020001\\\\AC0020001-03.jpg']\n",
      "page_1\n",
      "1\n",
      "['C:/Users/SUYASH/Downloads/AC0020001\\\\AC0020001-06.jpg']\n",
      "page_2\n",
      "2\n"
     ]
    }
   ],
   "source": [
    "# Count value is the starting value for code to work. If the last file saved before stopping code was '10', count value for running code again should be '11'\n",
    "count = 1\n",
    "count_sem = 1\n",
    "for i in page_fin_split[count-1:]:\n",
    "    name = []\n",
    "    father = []\n",
    "    hno = []\n",
    "    age = []\n",
    "    gen = []\n",
    "    grel = []\n",
    "#     code = []\n",
    "    file_name = []\n",
    "    for j in i:\n",
    "        n,f,fn = image_text_name(j)\n",
    "\n",
    "        print(\"page_\"+str(count_sem))\n",
    "        count_sem+=1\n",
    "    \n",
    "    df = pd.DataFrame(np.column_stack([n, f,fn]), \n",
    "                               columns=['name', 'guardian','file_name'])\n",
    "    #Put it in different folder\n",
    "    df.to_csv('C:/Users/SUYASH/Downloads/AC0020001/names/'+str(count)+\".csv\",index = False)\n",
    "    print(count)\n",
    "    count+=1"
   ]
  },
  {
   "cell_type": "code",
   "execution_count": null,
   "metadata": {},
   "outputs": [],
   "source": []
  }
 ],
 "metadata": {
  "accelerator": "GPU",
  "colab": {
   "name": "1.ipynb",
   "provenance": [],
   "version": "0.3.2"
  },
  "kernelspec": {
   "display_name": "Python 3",
   "language": "python",
   "name": "python3"
  },
  "language_info": {
   "codemirror_mode": {
    "name": "ipython",
    "version": 3
   },
   "file_extension": ".py",
   "mimetype": "text/x-python",
   "name": "python",
   "nbconvert_exporter": "python",
   "pygments_lexer": "ipython3",
   "version": "3.6.4"
  }
 },
 "nbformat": 4,
 "nbformat_minor": 1
}
