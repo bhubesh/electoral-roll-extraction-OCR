{
 "cells": [
  {
   "cell_type": "code",
   "execution_count": null,
   "metadata": {
    "colab": {},
    "colab_type": "code",
    "id": "SxLv1M76Nljd"
   },
   "outputs": [],
   "source": [
    "from PIL import Image\n",
    "from pytesseract import image_to_string\n",
    "import pytesseract\n",
    "import numpy as np\n",
    "import pandas as pd\n",
    "import PIL\n",
    "# from PIL import Image, ImageFilter, ImageEnhance\n",
    "import cv2\n",
    "# import colorsys"
   ]
  },
  {
   "cell_type": "code",
   "execution_count": null,
   "metadata": {
    "colab": {},
    "colab_type": "code",
    "id": "oDK_CvkuNljt"
   },
   "outputs": [],
   "source": [
    " pytesseract.pytesseract.tesseract_cmd = r\"C:\\Program Files (x86)\\Tesseract-OCR\\tesseract.exe\""
   ]
  },
  {
   "cell_type": "code",
   "execution_count": null,
   "metadata": {
    "colab": {},
    "colab_type": "code",
    "id": "L1WT4NHaNlkB"
   },
   "outputs": [],
   "source": [
    "import numpy as np\n",
    "#initial coordinates of name, guardian's relation and name,house number,age,gender.\n",
    "#Pls edit and change by hit and try like we did in first page extraction\n",
    "def image_text(x,crop_rectangle_nm = (112,275, 778, 530)):\n",
    "    im = Image.open(x)\n",
    "    im = im.resize((3000, 3882), PIL.Image.LANCZOS)\n",
    "    im = cv2.bilateralFilter(np.array(im, dtype= np.uint8),9,75,75)\n",
    "    im = cv2.cvtColor(im, cv2.COLOR_BGR2GRAY)\n",
    "    im = cv2.adaptiveThreshold(np.array(im,dtype=np.uint8), 255, cv2.ADAPTIVE_THRESH_GAUSSIAN_C, cv2.THRESH_BINARY, 31, 15)\n",
    "    im = Image.fromarray(im)\n",
    "    countt = 1\n",
    "    jj = []\n",
    "    cropped_im_n = im.crop(crop_rectangle_nm)\n",
    "    c_n = image_to_string(cropped_im_n,config='-c tessedit_char_whitelist=abcdefghijklmnopqrstuvwxyzQWERTYUIOPASDFGHJKLZXCVBNM --psm 6')\n",
    "    details = c_n.splitlines()\n",
    "#             print(details)\n",
    "    for i in details:\n",
    "        if len(i)>0:\n",
    "            if len(i.split(\":\"))>1:\n",
    "                jj.append(i)\n",
    "    if len(jj)==4:\n",
    "    \n",
    "        for i in range(0,10):\n",
    "            for j in range(0,3):\n",
    "                kk = []\n",
    "\n",
    "\n",
    "                cropped_im_nm = im.crop(crop_rectangle_nm)\n",
    "                c_nm = image_to_string(cropped_im_nm,config='-c tessedit_char_whitelist=abcdefghijklmnopqrstuvwxyzQWERTYUIOPASDFGHJKLZXCVBNM --psm 6')\n",
    "                details = c_nm.splitlines()\n",
    "    #             print(details)\n",
    "                for i in details:\n",
    "                    if len(i)>0:\n",
    "                        if len(i.split(\":\"))>1:\n",
    "                            kk.append(i)\n",
    "#                 print(kk)\n",
    "                if len(kk)==4:\n",
    "                    countt+=1\n",
    "                    file_name.append(x+str(countt))\n",
    "                    n = kk[0].strip().split(\":\")[1]\n",
    "                    f = kk[1].strip().split(\":\")[1]\n",
    "                    h = kk[2].strip().split(\":\")[1]\n",
    "                    mm = kk[3].strip().split(\":\")\n",
    "                    a = mm[1].strip().split(\" \")[0]\n",
    "                    g = mm[2].strip()\n",
    "                    gr = kk[1].strip().split(\":\")[0]\n",
    "                    name.append(n)\n",
    "                    father.append(f)\n",
    "                    hno.append(h)\n",
    "                    age.append(a)\n",
    "                    gen.append(g)\n",
    "                    grel.append(gr)\n",
    "\n",
    "\n",
    "\n",
    "    # Find distance between same category horizontally.\n",
    "    # For example find distance between starting coordinate of first box NAME and starting coordinate of secnd box NAME on right\n",
    "    # Make sure we find distance from starting point. Distance should be same for 2nd and 3rd box horizontally as well as for every 4 other value, such as age, sex etc\n",
    "                crop_rectangle_nm = tuple(np.add(crop_rectangle_nm, (911, 0,911,0)))\n",
    "    # Find ditance between third and first box. Which should be 3 times above found distance\n",
    "\n",
    "            crop_rectangle_nm = tuple(np.subtract(crop_rectangle_nm, (2733, 0,2733,0)))\n",
    "\n",
    "    # Find distance between same category vertically.\n",
    "    # For example find distance between starting coordinate of first box NAME and starting coordinate of secnd box NAME down\n",
    "    # Distance should be same for all 10 boxes vertically as well as for every 4 other value, such as age, sex etc\n",
    "            crop_rectangle_nm = tuple(np.add(crop_rectangle_nm, (0, 323,0,323)))\n",
    "    \n",
    "    else:\n",
    "        return image_text_2(im,x)\n",
    "\n",
    "\n",
    "    return name,father,hno,age,gen,file_name,grel\n",
    "\n"
   ]
  },
  {
   "cell_type": "code",
   "execution_count": null,
   "metadata": {},
   "outputs": [],
   "source": [
    "def image_text_2(im,x):\n",
    "    crop_rectangle_nm = (112,245, 778, 500)\n",
    "    countt = 1 \n",
    "    \n",
    "    for i in range(0,10):\n",
    "        for j in range(0,3):\n",
    "            kk = []\n",
    "            cropped_im_nm = im.crop(crop_rectangle_nm)\n",
    "            c_nm = image_to_string(cropped_im_nm,config='-c tessedit_char_whitelist=abcdefghijklmnopqrstuvwxyzQWERTYUIOPASDFGHJKLZXCVBNM --psm 6')\n",
    "            details = c_nm.splitlines()\n",
    "            for i in details:\n",
    "                if len(i)>0:\n",
    "                    if len(i.split(\":\"))>1:\n",
    "                        kk.append(i)\n",
    "#             print(kk)\n",
    "            if len(kk)==4:\n",
    "                countt+=1\n",
    "                file_name.append(x+str(countt))\n",
    "                n = kk[0].strip().split(\":\")[1]\n",
    "                f = kk[1].strip().split(\":\")[1]\n",
    "                h = kk[2].strip().split(\":\")[1]\n",
    "                mm = kk[3].strip().split(\":\")\n",
    "                a = mm[1].strip().split(\" \")[0]\n",
    "                g = mm[2].strip()\n",
    "                gr = kk[1].strip().split(\":\")[0]\n",
    "                name.append(n)\n",
    "                father.append(f)\n",
    "                hno.append(h)\n",
    "                age.append(a)\n",
    "                gen.append(g)\n",
    "                grel.append(gr)\n",
    "                \n",
    "\n",
    "# Find distance between same category horizontally.\n",
    "# For example find distance between starting coordinate of first box NAME and starting coordinate of secnd box NAME on right\n",
    "# Make sure we find distance from starting point. Distance should be same for 2nd and 3rd box horizontally as well as for every 4 other value, such as age, sex etc\n",
    "            crop_rectangle_nm = tuple(np.add(crop_rectangle_nm, (911, 0,911,0)))\n",
    "# Find ditance between third and first box. Which should be 3 times above found distance\n",
    "\n",
    "        crop_rectangle_nm = tuple(np.subtract(crop_rectangle_nm, (2733, 0,2733,0)))\n",
    "\n",
    "# Find distance between same category vertically.\n",
    "# For example find distance between starting coordinate of first box NAME and starting coordinate of secnd box NAME down\n",
    "# Distance should be same for all 10 boxes vertically as well as for every 4 other value, such as age, sex etc\n",
    "        crop_rectangle_nm = tuple(np.add(crop_rectangle_nm, (0, 323,0,323)))\n",
    "\n",
    "\n",
    "    return name,father,hno,age,gen,file_name,grel\n"
   ]
  },
  {
   "cell_type": "markdown",
   "metadata": {
    "colab_type": "text",
    "id": "ODKZFjxrNVVJ"
   },
   "source": [
    "** Removing page 1 and 2 **"
   ]
  },
  {
   "cell_type": "code",
   "execution_count": null,
   "metadata": {
    "colab": {},
    "colab_type": "code",
    "id": "klf-0ED1Nlkf"
   },
   "outputs": [],
   "source": [
    "import glob\n",
    "#Getting all page 1\n",
    "page_1 = glob.glob('C:/Users/SUYASH/Desktop/1/New folder/*page1.jpg')\n",
    "#Getting all page 2\n",
    "page_2 = glob.glob('C:/Users/SUYASH/Desktop/1/New folder/*page2.jpg')\n",
    "#Getting all pages\n",
    "page_all = glob.glob('C:/Users/SUYASH/Desktop/1/New folder/*.jpg')"
   ]
  },
  {
   "cell_type": "code",
   "execution_count": null,
   "metadata": {
    "colab": {},
    "colab_type": "code",
    "id": "9373Z6SPNlko"
   },
   "outputs": [],
   "source": [
    "#Removing page 1 from all\n",
    "temp = [i for i in page_all if i not in page_1]\n",
    "#Removing page 2 from all\n",
    "page_fin = [i for i in temp if i not in page_2]"
   ]
  },
  {
   "cell_type": "code",
   "execution_count": null,
   "metadata": {
    "colab": {},
    "colab_type": "code",
    "id": "zSgC01sKNlky"
   },
   "outputs": [],
   "source": [
    "def split(a, n):\n",
    "    k, m = divmod(len(a), n)\n",
    "    return (a[i * k + min(i, m):(i + 1) * k + min(i + 1, m)] for i in range(n))"
   ]
  },
  {
   "cell_type": "markdown",
   "metadata": {
    "colab_type": "text",
    "id": "1ErPKW5pNVVr"
   },
   "source": [
    "** Splitting list to parts **"
   ]
  },
  {
   "cell_type": "code",
   "execution_count": null,
   "metadata": {
    "colab": {},
    "colab_type": "code",
    "id": "gIn6ZX5mNllA"
   },
   "outputs": [],
   "source": [
    "#Splitting files into 500 parts to increase frequency of saving. Increase the value to save more frequently\n",
    "#Do not change value after running code once. If want to change value after running. Delete all saved files or do maths\n",
    "page_fin_split =  list(split(page_fin, 1))"
   ]
  },
  {
   "cell_type": "code",
   "execution_count": null,
   "metadata": {
    "colab": {},
    "colab_type": "code",
    "id": "3NR71tlKNllK",
    "outputId": "65655505-0db4-416e-8b8e-6f1150ec81a4"
   },
   "outputs": [],
   "source": [
    "# Count value is the starting value for code to work. If the last file saved before stopping code was '10', count value for running code again should be '11'\n",
    "count = 1\n",
    "count_sem = 1\n",
    "for i in page_fin_split[count-1:]:\n",
    "    name = []\n",
    "    father = []\n",
    "    hno = []\n",
    "    age = []\n",
    "    gen = []\n",
    "    grel = []\n",
    "    file_name = []\n",
    "    for j in i:\n",
    "        n,f,h,a,g,fn,gr = image_text(j)\n",
    "\n",
    "        print(\"page_\"+str(count_sem))\n",
    "        count_sem+=1\n",
    "    \n",
    "    df = pd.DataFrame(np.column_stack([n,gr, f, h,a,g,fn]), \n",
    "                               columns=['name','g_relation', 'guardian', 'hno','age','gen',\"file_name\"])\n",
    "    df.to_excel(str(count)+\".xlsx\",index = False)\n",
    "    print(count)\n",
    "    count+=1"
   ]
  },
  {
   "cell_type": "code",
   "execution_count": null,
   "metadata": {},
   "outputs": [],
   "source": [
    "len(a)"
   ]
  },
  {
   "cell_type": "code",
   "execution_count": null,
   "metadata": {},
   "outputs": [],
   "source": []
  },
  {
   "cell_type": "code",
   "execution_count": null,
   "metadata": {},
   "outputs": [],
   "source": []
  }
 ],
 "metadata": {
  "accelerator": "GPU",
  "colab": {
   "collapsed_sections": [],
   "name": "1 fin fin.ipynb",
   "provenance": [],
   "version": "0.3.2"
  },
  "kernelspec": {
   "display_name": "Python 3",
   "language": "python",
   "name": "python3"
  },
  "language_info": {
   "codemirror_mode": {
    "name": "ipython",
    "version": 3
   },
   "file_extension": ".py",
   "mimetype": "text/x-python",
   "name": "python",
   "nbconvert_exporter": "python",
   "pygments_lexer": "ipython3",
   "version": "3.6.4"
  }
 },
 "nbformat": 4,
 "nbformat_minor": 1
}
